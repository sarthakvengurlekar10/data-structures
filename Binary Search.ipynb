{
 "cells": [
  {
   "cell_type": "markdown",
   "id": "2707b335",
   "metadata": {},
   "source": [
    "## Implementation"
   ]
  },
  {
   "cell_type": "markdown",
   "id": "db6280e0",
   "metadata": {},
   "source": [
    "Given a sorted array, search for a target item."
   ]
  },
  {
   "cell_type": "markdown",
   "id": "46743a7f",
   "metadata": {},
   "source": [
    "### Attempt 1"
   ]
  },
  {
   "cell_type": "code",
   "execution_count": 2,
   "id": "a874432f",
   "metadata": {},
   "outputs": [
    {
     "data": {
      "text/plain": [
       "6"
      ]
     },
     "execution_count": 2,
     "metadata": {},
     "output_type": "execute_result"
    }
   ],
   "source": [
    "def binary_search(a, target):\n",
    "    start = 0\n",
    "    end = len(a) - 1\n",
    "    while start <= end:\n",
    "        mid = start + (end-start)//2\n",
    "        if a[mid] < target:\n",
    "            start = mid + 1\n",
    "        elif a[mid] > target:\n",
    "            end = mid - 1\n",
    "        else:\n",
    "            return mid\n",
    "    return -1\n",
    "\n",
    "binary_search([1, 2, 3, 4, 5, 6, 7, 8, 9], 7)"
   ]
  },
  {
   "cell_type": "markdown",
   "id": "1f3f4a8b",
   "metadata": {},
   "source": [
    "### Attempt 2"
   ]
  },
  {
   "cell_type": "code",
   "execution_count": 4,
   "id": "75d4115b",
   "metadata": {},
   "outputs": [
    {
     "data": {
      "text/plain": [
       "-1"
      ]
     },
     "execution_count": 4,
     "metadata": {},
     "output_type": "execute_result"
    }
   ],
   "source": [
    "def binary_search(a, target):\n",
    "    start = 0\n",
    "    end = len(a) - 1\n",
    "    while start <= end:\n",
    "        mid = start + (end-start)//2\n",
    "        if a[mid] < target:\n",
    "            start = mid + 1\n",
    "        elif a[mid] > target:\n",
    "            end = mid - 1\n",
    "        else:\n",
    "            return mid\n",
    "    return -1\n",
    "\n",
    "binary_search([3, 23, 56, 78, 79, 90, 99, 101, 145], 0)"
   ]
  },
  {
   "cell_type": "markdown",
   "id": "31f063e9",
   "metadata": {},
   "source": [
    "### Attempt 3"
   ]
  },
  {
   "cell_type": "code",
   "execution_count": 1,
   "id": "f413c8fd",
   "metadata": {},
   "outputs": [
    {
     "data": {
      "text/plain": [
       "1"
      ]
     },
     "execution_count": 1,
     "metadata": {},
     "output_type": "execute_result"
    }
   ],
   "source": [
    "def binary_search(a, target):\n",
    "    start = 0\n",
    "    end = len(a) - 1\n",
    "    while start <= end:\n",
    "        mid = start + (end-start)//2\n",
    "        if a[mid] < target:\n",
    "            start = mid + 1\n",
    "        elif a[mid] > target:\n",
    "            end = mid - 1\n",
    "        else:\n",
    "            return mid\n",
    "    return -1\n",
    "\n",
    "binary_search([2, 5, 7, 9, 13, 17, 21], 5)"
   ]
  },
  {
   "cell_type": "markdown",
   "id": "1e458cc7",
   "metadata": {},
   "source": [
    "I used start + (end-start)/2 instead of (start+end)/2 because it prevents the integer overflow exception"
   ]
  },
  {
   "cell_type": "markdown",
   "id": "e9d80526",
   "metadata": {},
   "source": [
    "## Binary Search with Duplicates"
   ]
  },
  {
   "cell_type": "markdown",
   "id": "f6b00ef6",
   "metadata": {},
   "source": [
    "Given a sorted array that can contain duplicates, find the first occurrence of a target element T.\n",
    "\n",
    "For example, if A = [2,3,4,4,5,6] and T = 4, return index 2."
   ]
  },
  {
   "cell_type": "markdown",
   "id": "09c13ec5",
   "metadata": {},
   "source": [
    "### Attempt 1"
   ]
  },
  {
   "cell_type": "code",
   "execution_count": 5,
   "id": "b0999bdc",
   "metadata": {},
   "outputs": [
    {
     "data": {
      "text/plain": [
       "2"
      ]
     },
     "execution_count": 5,
     "metadata": {},
     "output_type": "execute_result"
    }
   ],
   "source": [
    "def dup_binary(a, target):\n",
    "    start = 0\n",
    "    end = len(a) - 1\n",
    "    while start <= end:\n",
    "        mid = start + (end-start)//2\n",
    "        if a[mid] < target:\n",
    "            start = mid + 1\n",
    "        elif (a[mid] > target) or (a[mid]==target and mid > 0 and a[mid-1]==target):\n",
    "            end = mid - 1\n",
    "        else:\n",
    "            return mid\n",
    "    return -1\n",
    "\n",
    "dup_binary([2,3,4,4,5,6], 4)"
   ]
  },
  {
   "cell_type": "markdown",
   "id": "ada77df4",
   "metadata": {},
   "source": [
    "In this problem, I implemented binary search with one small change in the condition where it checks if the middle element is greater than the target. We add another condition to it that if the element at the middle is the same as the target and the mid index is greater than 0 and the preceding element is also the same as the element at the mid, then we shift end to mid - 1"
   ]
  },
  {
   "cell_type": "markdown",
   "id": "cd3b7ce7",
   "metadata": {},
   "source": [
    "### Attempt 2"
   ]
  },
  {
   "cell_type": "code",
   "execution_count": 6,
   "id": "0409ea28",
   "metadata": {},
   "outputs": [
    {
     "data": {
      "text/plain": [
       "4"
      ]
     },
     "execution_count": 6,
     "metadata": {},
     "output_type": "execute_result"
    }
   ],
   "source": [
    "def dup_binary(a, target):\n",
    "    start = 0\n",
    "    end = len(a) - 1\n",
    "    while start <= end:\n",
    "        mid = start + (end-start)//2\n",
    "        if a[mid] < target:\n",
    "            start = mid + 1\n",
    "        elif (a[mid] > target) or (a[mid]==target and mid>0 and a[mid-1]==target):\n",
    "            end = mid - 1\n",
    "        else:\n",
    "            return mid\n",
    "    return -1\n",
    "\n",
    "dup_binary([1, 2, 2, 3, 4, 4, 4, 5, 6, 7, 7], 4)"
   ]
  },
  {
   "cell_type": "markdown",
   "id": "2aadf3c5",
   "metadata": {},
   "source": [
    "### Attempt 3"
   ]
  },
  {
   "cell_type": "code",
   "execution_count": 3,
   "id": "d34b64f8",
   "metadata": {},
   "outputs": [
    {
     "data": {
      "text/plain": [
       "4"
      ]
     },
     "execution_count": 3,
     "metadata": {},
     "output_type": "execute_result"
    }
   ],
   "source": [
    "def dup_binary(a, target):\n",
    "    start = 0\n",
    "    end = len(a) - 1\n",
    "    while start <= end:\n",
    "        mid = start + (end-start)//2\n",
    "        if a[mid] < target:\n",
    "            start = mid + 1\n",
    "        elif a[mid] > target or (a[mid]==target and mid>0 and a[mid-1]==target):\n",
    "            end = mid - 1\n",
    "        else:\n",
    "            return mid\n",
    "    return -1\n",
    "\n",
    "dup_binary([1, 2, 2, 3, 4, 4, 4, 5, 6, 7, 7], 4)"
   ]
  },
  {
   "cell_type": "markdown",
   "id": "4bbf4f2a",
   "metadata": {},
   "source": [
    "You are given a sorted array A and a target T. Return the index where T would be placed if inserted in order. For example,\n",
    "\n",
    "A = [1,2,4,5,6,8] and T = 3, return index 2\n",
    "A = [1,2,4,5,6,8] and T = 0, return index 0\n",
    "A = [1,2,4,5,6,8] and T = 4, return index 3."
   ]
  },
  {
   "cell_type": "markdown",
   "id": "41694fbc",
   "metadata": {},
   "source": [
    "### Attempt 1"
   ]
  },
  {
   "cell_type": "code",
   "execution_count": 10,
   "id": "72404355",
   "metadata": {},
   "outputs": [
    {
     "data": {
      "text/plain": [
       "3"
      ]
     },
     "execution_count": 10,
     "metadata": {},
     "output_type": "execute_result"
    }
   ],
   "source": [
    "def insert_in_order(a, target):\n",
    "    start = 0\n",
    "    end = len(a) - 1\n",
    "    while start <= end:\n",
    "        mid = start + (end-start)//2\n",
    "        if a[mid] < target:\n",
    "            start = mid + 1\n",
    "        elif a[mid] > target:\n",
    "            end = mid - 1\n",
    "        else:\n",
    "            return mid + 1\n",
    "    if a[start] > target:\n",
    "        return start\n",
    "    else:\n",
    "        return start + 1\n",
    "    \n",
    "insert_in_order([1, 2, 4, 5, 6, 8], 4)"
   ]
  },
  {
   "cell_type": "markdown",
   "id": "1766b4ee",
   "metadata": {},
   "source": [
    "### Attempt 2"
   ]
  },
  {
   "cell_type": "code",
   "execution_count": 14,
   "id": "c5ebaca9",
   "metadata": {},
   "outputs": [
    {
     "data": {
      "text/plain": [
       "6"
      ]
     },
     "execution_count": 14,
     "metadata": {},
     "output_type": "execute_result"
    }
   ],
   "source": [
    "def insert_in_order(a, target):\n",
    "    start = 0\n",
    "    end = len(a) - 1\n",
    "    while start <= end:\n",
    "        mid = start + (end-start)//2\n",
    "        if a[mid] < target:\n",
    "            start = mid + 1\n",
    "        elif a[mid] > target:\n",
    "            end = mid - 1\n",
    "        else:\n",
    "            return mid + 1\n",
    "    if start >= len(a):\n",
    "        return start\n",
    "    if a[start] > target:\n",
    "        return start\n",
    "    else:\n",
    "        return start + 1\n",
    "\n",
    "insert_in_order([1, 2, 4, 5, 6, 8], 10)"
   ]
  },
  {
   "cell_type": "markdown",
   "id": "51ecc06c",
   "metadata": {},
   "source": [
    "### Attempt 3"
   ]
  },
  {
   "cell_type": "code",
   "execution_count": 4,
   "id": "1062a4ce",
   "metadata": {},
   "outputs": [
    {
     "data": {
      "text/plain": [
       "6"
      ]
     },
     "execution_count": 4,
     "metadata": {},
     "output_type": "execute_result"
    }
   ],
   "source": [
    "def insert_in_order(a, target):\n",
    "    start = 0\n",
    "    end = len(a) - 1\n",
    "    while start <= end:\n",
    "        mid = start + (end-start)//2\n",
    "        if a[mid] < target:\n",
    "            start = mid + 1\n",
    "        elif a[mid] > target:\n",
    "            end = mid - 1\n",
    "        else:\n",
    "            return mid + 1\n",
    "    if start >= len(a):\n",
    "        return start\n",
    "    if a[start] > target:\n",
    "        return start\n",
    "    else:\n",
    "        return start + 1\n",
    "    \n",
    "insert_in_order([1, 2, 4, 5, 6, 8], 10)"
   ]
  },
  {
   "cell_type": "markdown",
   "id": "81b52286",
   "metadata": {},
   "source": [
    "## Search for closest - record and move on"
   ]
  },
  {
   "cell_type": "markdown",
   "id": "5042af9b",
   "metadata": {},
   "source": [
    "Given a sorted array A and a target T, find the target. If the target is not in the array, find the number closest to the target. For example, if A = [2,3,5,8,9,11] and T = 7, return index of 8, i.e. return 3."
   ]
  },
  {
   "cell_type": "markdown",
   "id": "98d82f72",
   "metadata": {},
   "source": [
    "### Attempt 1"
   ]
  },
  {
   "cell_type": "code",
   "execution_count": 17,
   "id": "211eb2d5",
   "metadata": {},
   "outputs": [
    {
     "data": {
      "text/plain": [
       "3"
      ]
     },
     "execution_count": 17,
     "metadata": {},
     "output_type": "execute_result"
    }
   ],
   "source": [
    "def record(a, mid, result, target):\n",
    "    if result is None:\n",
    "        result = mid\n",
    "    elif abs(a[mid] - target) < abs(a[result] - target):\n",
    "        result = mid\n",
    "    return result\n",
    "\n",
    "def binary_search(a, target):\n",
    "    start = 0\n",
    "    end = len(a) - 1\n",
    "    result = None\n",
    "    while start <= end:\n",
    "        mid = start + (end-start)//2\n",
    "        result = record(a, mid, result, target)\n",
    "        if a[mid] < target:\n",
    "            start = mid + 1\n",
    "        elif a[mid] > target:\n",
    "            end = mid - 1\n",
    "        else:\n",
    "            return mid\n",
    "    return result\n",
    "\n",
    "binary_search([2, 3, 5, 8, 9, 11], 7)"
   ]
  },
  {
   "cell_type": "markdown",
   "id": "5b8e1264",
   "metadata": {},
   "source": [
    "In this problem, we perform binary search, except we also record the results of our search at every iteration. The record function checks if the difference between the current middle element and the target is less than the difference between the current result and the target; if so, the result is updated as the middle element."
   ]
  },
  {
   "cell_type": "markdown",
   "id": "7a211650",
   "metadata": {},
   "source": [
    "### Attempt 2"
   ]
  },
  {
   "cell_type": "code",
   "execution_count": 20,
   "id": "c7c92d50",
   "metadata": {},
   "outputs": [
    {
     "data": {
      "text/plain": [
       "2"
      ]
     },
     "execution_count": 20,
     "metadata": {},
     "output_type": "execute_result"
    }
   ],
   "source": [
    "def record(a, mid, target, result):\n",
    "    if result is None:\n",
    "        result = mid\n",
    "    elif abs(a[mid] - target) < abs(a[result] - target):\n",
    "        result = mid\n",
    "    return result\n",
    "\n",
    "def binary_search(a, target):\n",
    "    start = 0\n",
    "    end = len(a) - 1\n",
    "    result = None\n",
    "    while start <= end:\n",
    "        mid = start + (end-start)//2\n",
    "        result = record(a, mid, target, result)\n",
    "        if a[mid] < target:\n",
    "            start = mid + 1\n",
    "        elif a[mid] > target:\n",
    "            end = mid - 1\n",
    "        else:\n",
    "            return mid\n",
    "    return result\n",
    "\n",
    "binary_search([2, 3, 5, 8, 9, 11], 4)"
   ]
  },
  {
   "cell_type": "markdown",
   "id": "b1232ce3",
   "metadata": {},
   "source": [
    "### Attempt 3"
   ]
  },
  {
   "cell_type": "code",
   "execution_count": 4,
   "id": "22034897",
   "metadata": {},
   "outputs": [
    {
     "data": {
      "text/plain": [
       "2"
      ]
     },
     "execution_count": 4,
     "metadata": {},
     "output_type": "execute_result"
    }
   ],
   "source": [
    "def record(a, mid, target, result):\n",
    "    if result is None:\n",
    "        result = mid\n",
    "    elif abs(a[mid]-target) < abs(a[result]-target):\n",
    "        result = mid\n",
    "    return result\n",
    "def binary_search(a, target):\n",
    "    start = 0\n",
    "    end = len(a) - 1\n",
    "    result = None\n",
    "    while start <= end:\n",
    "        mid = start + (end-start)//2\n",
    "        result = record(a, mid, target, result)\n",
    "        if a[mid] < target:\n",
    "            start = mid + 1\n",
    "        elif a[mid] > target:\n",
    "            end = mid - 1\n",
    "        else:\n",
    "            return mid\n",
    "    return result\n",
    "\n",
    "binary_search([2, 3, 5, 8, 9, 11], 4)"
   ]
  },
  {
   "cell_type": "markdown",
   "id": "f4e63633",
   "metadata": {},
   "source": [
    "## Special Tricks"
   ]
  },
  {
   "cell_type": "markdown",
   "id": "186a44c9",
   "metadata": {},
   "source": [
    "Given a sorted array A that has been rotated in a cycle, find the smallest element of the array in O(log(n)) time. For example,\n",
    "\n",
    "[1,2,4,5,7,8] rotated by 3 gives us A = [5,7,8,1,2,4] and the smallest number is 1.\n",
    "[1,2,4,5,7,8] rotated by 1 gives us A = [8,1,2,4,5,7] and the smallest number is 1."
   ]
  },
  {
   "cell_type": "markdown",
   "id": "d23f1ff6",
   "metadata": {},
   "source": [
    "### Attempt 1"
   ]
  },
  {
   "cell_type": "code",
   "execution_count": 25,
   "id": "408d08f9",
   "metadata": {},
   "outputs": [
    {
     "data": {
      "text/plain": [
       "1"
      ]
     },
     "execution_count": 25,
     "metadata": {},
     "output_type": "execute_result"
    }
   ],
   "source": [
    "def min_rot(a):\n",
    "    start = 0\n",
    "    end = len(a) - 1\n",
    "    right = a[len(a)-1]\n",
    "    while start <= end:\n",
    "        mid = start + (end-start)//2\n",
    "        if (a[mid]<=right) and (a[mid]<a[mid-1] or mid==0):\n",
    "            return mid\n",
    "        elif a[mid] > right:\n",
    "            start = mid + 1\n",
    "        else:\n",
    "            end = mid - 1\n",
    "    return -1\n",
    "\n",
    "min_rot([8, 1, 2, 4, 5, 7])"
   ]
  },
  {
   "cell_type": "markdown",
   "id": "10848345",
   "metadata": {},
   "source": [
    "In this problem, we again perform a modified binary search. The last element in the array will always be greater than the minimum element and the element to the left of the minimum element will always be greater than the minimum element (unless the minimum element is the first element, which means the array hasn't been rotated). We use these two facts to implement the above algorithm which checks for the above conditions."
   ]
  },
  {
   "cell_type": "markdown",
   "id": "28de5024",
   "metadata": {},
   "source": [
    "### Attempt 2"
   ]
  },
  {
   "cell_type": "code",
   "execution_count": 28,
   "id": "54a2411e",
   "metadata": {},
   "outputs": [
    {
     "data": {
      "text/plain": [
       "0"
      ]
     },
     "execution_count": 28,
     "metadata": {},
     "output_type": "execute_result"
    }
   ],
   "source": [
    "def min_rot(a):\n",
    "    start = 0\n",
    "    end = len(a) - 1\n",
    "    right = a[len(a)-1]\n",
    "    while start <= end:\n",
    "        mid = start + (end-start)//2\n",
    "        if (a[mid]<right) and (mid==0 or a[mid]<a[mid]-1):\n",
    "            return mid\n",
    "        elif a[mid] > right:\n",
    "            start = mid + 1\n",
    "        else:\n",
    "            end = mid - 1\n",
    "    return -1\n",
    "\n",
    "min_rot([1, 2, 4, 5, 7])"
   ]
  },
  {
   "cell_type": "markdown",
   "id": "7c0fb6e8",
   "metadata": {},
   "source": [
    "### Attempt 3"
   ]
  },
  {
   "cell_type": "code",
   "execution_count": 7,
   "id": "b2785d0b",
   "metadata": {},
   "outputs": [
    {
     "data": {
      "text/plain": [
       "5"
      ]
     },
     "execution_count": 7,
     "metadata": {},
     "output_type": "execute_result"
    }
   ],
   "source": [
    "def min_rot(a):\n",
    "    start = 0\n",
    "    end = len(a) - 1\n",
    "    right = a[len(a)-1]\n",
    "    while start <= end:\n",
    "        mid = start + (end-start)//2\n",
    "        if (a[mid]<=right) and (mid==0 or a[mid]<a[mid-1]):\n",
    "            return mid\n",
    "        elif a[mid] > right:\n",
    "            start = mid + 1\n",
    "        else:\n",
    "            end = mid - 1\n",
    "    return -1\n",
    "\n",
    "min_rot([8, 7, 6, 5, 4, 3])"
   ]
  },
  {
   "cell_type": "markdown",
   "id": "8775fdb6",
   "metadata": {},
   "source": [
    "Find the square root of an integer X. For example, squareRoot(4) = 2. It is ok to find the integer floor of the square root. So squareRoot(5) or squareRoot(8) can also return 2. squareRoot(9) will return 3.\n",
    "\n",
    "Using Binary Search, you can search for square roots over the integer space. This is pretty fast because it takes O(log(n)) time. Assume that x*x is less than the integer limit."
   ]
  },
  {
   "cell_type": "code",
   "execution_count": 39,
   "id": "87207ac2",
   "metadata": {},
   "outputs": [
    {
     "name": "stdout",
     "output_type": "stream",
     "text": [
      "3\n",
      "5\n",
      "4\n"
     ]
    },
    {
     "data": {
      "text/plain": [
       "-1"
      ]
     },
     "execution_count": 39,
     "metadata": {},
     "output_type": "execute_result"
    }
   ],
   "source": [
    "def square_root(x):\n",
    "    if x == 0:\n",
    "        return 0\n",
    "    elif x == 1:\n",
    "        return 1\n",
    "    else:\n",
    "        start = 0\n",
    "        end = x // 2\n",
    "        while start <= end:\n",
    "            mid = start + (end-start)//2\n",
    "            if mid**2 > x:\n",
    "                end = mid - 1\n",
    "            elif mid**2 < x:\n",
    "                if (mid+1)**2 < x:\n",
    "                    return mid\n",
    "                start = mid + 1\n",
    "            else:\n",
    "                return mid\n",
    "            print(mid)\n",
    "        return -1\n",
    "    \n",
    "square_root(15)"
   ]
  },
  {
   "cell_type": "markdown",
   "id": "d8535d48",
   "metadata": {},
   "source": [
    "Search for a Peak: A peak element in array A is an A[i] where its adjacent elements are less than A[i]. So, A[i - 1] < A[i] and A[i + 1] < A[i].\n",
    "\n",
    "Assume there are no duplicates. Also, assume that A[-1] and A[length] are negative infinity (-∞). So A[0] can be a peak if A[1] < A[0].\n",
    "\n",
    "A = [1,3,4,5,2] => Peak = 5\n",
    "A = [5,3,1] => Peak = 5\n",
    "A = [1,3,5] => Peak = 5"
   ]
  },
  {
   "cell_type": "code",
   "execution_count": 43,
   "id": "39e1a796",
   "metadata": {},
   "outputs": [
    {
     "data": {
      "text/plain": [
       "2"
      ]
     },
     "execution_count": 43,
     "metadata": {},
     "output_type": "execute_result"
    }
   ],
   "source": [
    "def find_peak(a):\n",
    "    start = 0\n",
    "    end = len(a) - 1\n",
    "    while start <= end:\n",
    "        mid = start + (end-start)//2\n",
    "        left = a[mid-1] if mid > 0 else float(\"-inf\") \n",
    "        right = a[mid+1] if mid < len(a) - 1 else float(\"-inf\")\n",
    "        if a[mid] < left and a[mid] < right:\n",
    "            end = mid - 1\n",
    "        elif a[mid] > left and a[mid] < right:\n",
    "            start = mid + 1\n",
    "        elif a[mid] < left and a[mid] > right:\n",
    "            end = mid - 1\n",
    "        else:\n",
    "            return mid\n",
    "    return -1\n",
    "\n",
    "find_peak([1, 3, 5])"
   ]
  },
  {
   "cell_type": "code",
   "execution_count": 8,
   "id": "3dede550",
   "metadata": {},
   "outputs": [
    {
     "data": {
      "text/plain": [
       "3"
      ]
     },
     "execution_count": 8,
     "metadata": {},
     "output_type": "execute_result"
    }
   ],
   "source": [
    "def find_peak(a):\n",
    "    start = 0\n",
    "    end = len(a) - 1\n",
    "    while start <= end:\n",
    "        mid = start + (end-start)//2\n",
    "        left = a[mid-1] if mid > 0 else float(\"-inf\")\n",
    "        right = a[mid+1] if mid < len(a) - 1 else float(\"-inf\")\n",
    "        if a[mid] < left and a[mid] < right:\n",
    "            end = mid - 1\n",
    "        elif a[mid] > left and a[mid] < right:\n",
    "            start = mid + 1\n",
    "        elif a[mid] < left and a[mid] > right:\n",
    "            end = mid - 1\n",
    "        else:\n",
    "            return mid\n",
    "    return -1\n",
    "\n",
    "find_peak([1, 3, 4, 5, 2])"
   ]
  },
  {
   "cell_type": "code",
   "execution_count": null,
   "id": "17ca9f76",
   "metadata": {},
   "outputs": [],
   "source": []
  }
 ],
 "metadata": {
  "kernelspec": {
   "display_name": "Python 3 (ipykernel)",
   "language": "python",
   "name": "python3"
  },
  "language_info": {
   "codemirror_mode": {
    "name": "ipython",
    "version": 3
   },
   "file_extension": ".py",
   "mimetype": "text/x-python",
   "name": "python",
   "nbconvert_exporter": "python",
   "pygments_lexer": "ipython3",
   "version": "3.8.10"
  }
 },
 "nbformat": 4,
 "nbformat_minor": 5
}
