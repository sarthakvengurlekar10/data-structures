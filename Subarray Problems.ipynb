{
 "cells": [
  {
   "cell_type": "markdown",
   "id": "858b2432",
   "metadata": {},
   "source": [
    "## Kadane's Algorithm"
   ]
  },
  {
   "cell_type": "markdown",
   "id": "4b58a1ca",
   "metadata": {},
   "source": [
    " Given an array of integers, find the contiguous subarray (with at least 1 element) with the maximum sum. The array can contain both negative and positive integers.\n",
    " \n",
    " For example:  [1,2,-1,2,-3,2,-5]  -> first 4 elements have the largest sum. Return (0,3)"
   ]
  },
  {
   "cell_type": "markdown",
   "id": "1f35a26d",
   "metadata": {},
   "source": [
    "### Attempt 1"
   ]
  },
  {
   "cell_type": "code",
   "execution_count": 1,
   "id": "6f980e5f",
   "metadata": {},
   "outputs": [
    {
     "data": {
      "text/plain": [
       "4"
      ]
     },
     "execution_count": 1,
     "metadata": {},
     "output_type": "execute_result"
    }
   ],
   "source": [
    "def max_subarray(a):\n",
    "    maxi = a[0]\n",
    "    maxi_end = a[0]\n",
    "    for i in range(1, len(a)):\n",
    "        maxi_end = max(a[i], maxi_end + a[i])\n",
    "        maxi = max(maxi, maxi_end)\n",
    "    return maxi\n",
    "\n",
    "max_subarray([1, 2, -1, 2, -3, 2, -5])"
   ]
  },
  {
   "cell_type": "markdown",
   "id": "63de10bf",
   "metadata": {},
   "source": [
    "For this problem we use Kadane's algorithm. It works in the following way:\n",
    "\n",
    "1. Start from a[0] and initialize the maximum sum as a[0].\n",
    "2. For the next element,we decide the maximum ending value by choosing between either the sum of the last maximum value and the current element or just the current element itself. \n",
    "3. If the maximum ending value at that element is the global max value, it is assigned as the global maximum variable, else it is not and we proceed"
   ]
  },
  {
   "cell_type": "markdown",
   "id": "bf01c194",
   "metadata": {},
   "source": [
    "### Attempt 2"
   ]
  },
  {
   "cell_type": "code",
   "execution_count": 2,
   "id": "5dc9b220",
   "metadata": {},
   "outputs": [
    {
     "data": {
      "text/plain": [
       "95"
      ]
     },
     "execution_count": 2,
     "metadata": {},
     "output_type": "execute_result"
    }
   ],
   "source": [
    "def max_subarray(a):\n",
    "    maxi = a[0]\n",
    "    maxi_end = a[0]\n",
    "    for i in range(1, len(a)):\n",
    "        maxi_end = max(a[i], maxi_end + a[i])\n",
    "        maxi = max(maxi, maxi_end)\n",
    "    return maxi\n",
    "\n",
    "max_subarray([1, -1, -4, 2, 5, 6, -3, -2, 10, 12, -1, 4, 3, 7, 6, 4, -1, -2, 4, 9, 9, 8, -1, 7, 9])"
   ]
  },
  {
   "cell_type": "markdown",
   "id": "1bcc987d",
   "metadata": {},
   "source": [
    "### Attempt 3"
   ]
  },
  {
   "cell_type": "code",
   "execution_count": 2,
   "id": "6f22bbb1",
   "metadata": {},
   "outputs": [
    {
     "data": {
      "text/plain": [
       "(0, 3)"
      ]
     },
     "execution_count": 2,
     "metadata": {},
     "output_type": "execute_result"
    }
   ],
   "source": [
    "def max_subarray(a):\n",
    "    maxi = a[0]\n",
    "    maxi_end = a[0]\n",
    "    for i in range(1, len(a)):\n",
    "        maxi_end = max(a[i], a[i]+maxi_end)\n",
    "        maxi = max(maxi, maxi_end)\n",
    "    start = 0\n",
    "    end = 0\n",
    "    while start < len(a) and end < len(a):\n",
    "        if sum(a[start:end+1]) < maxi:\n",
    "            end += 1\n",
    "        elif sum(a[start:end+1]) > maxi: \n",
    "            start += 1\n",
    "        else:\n",
    "            return (start, end)\n",
    "\n",
    "max_subarray([1, 2, -1, 2, -3, 2, -5])"
   ]
  },
  {
   "cell_type": "markdown",
   "id": "faae1ea4",
   "metadata": {},
   "source": [
    "### Attempt 4"
   ]
  },
  {
   "cell_type": "code",
   "execution_count": 6,
   "id": "ff338f94",
   "metadata": {},
   "outputs": [],
   "source": [
    "def max_subarray(a):\n",
    "    maxi = a[0]\n",
    "    maxi_end = a[0]\n",
    "    for i in range(1, len(a)):\n",
    "        maxi_end = max(a[i], a[i]+maxi_end)\n",
    "        maxi = max(maxi, maxi_end)\n",
    "    start = 0\n",
    "    end = 0\n",
    "    while start < len(a) and end < len(a):\n",
    "        if sum(a[start:end+1]) < maxi:\n",
    "            end += 1\n",
    "        elif sum(a[start:end+1]) > maxi:\n",
    "            start += 1\n",
    "        else:\n",
    "            return (start, end)\n",
    "\n",
    "max_subarray([1, -1, 0, -1, -8, 4, 2, -3, 1, 2])"
   ]
  },
  {
   "cell_type": "markdown",
   "id": "039a8680",
   "metadata": {},
   "source": [
    "## Sliding Window"
   ]
  },
  {
   "cell_type": "markdown",
   "id": "a710223b",
   "metadata": {},
   "source": [
    "Given an array of positive integers, find the contiguous subarray that sums to a given number X.\n",
    "\n",
    "For example, input = [1,2,3,5,2] and X=8, Result = [3,5]"
   ]
  },
  {
   "cell_type": "markdown",
   "id": "b7106db1",
   "metadata": {},
   "source": [
    "### Attempt 1"
   ]
  },
  {
   "cell_type": "code",
   "execution_count": 3,
   "id": "ff76fd4c",
   "metadata": {},
   "outputs": [
    {
     "data": {
      "text/plain": [
       "(2, 3)"
      ]
     },
     "execution_count": 3,
     "metadata": {},
     "output_type": "execute_result"
    }
   ],
   "source": [
    "def subarray_sum(a, target):\n",
    "    start = 0\n",
    "    end = 0\n",
    "    while start < len(a) and end < len(a):\n",
    "        if sum(a[start:end+1]) < target:\n",
    "            end += 1\n",
    "        elif sum(a[start:end+1]) > target:\n",
    "            start += 1\n",
    "        else:\n",
    "            return (start, end)\n",
    "    return ()\n",
    "\n",
    "subarray_sum([1, 2, 3, 5, 2], 8)"
   ]
  },
  {
   "cell_type": "markdown",
   "id": "2fd50081",
   "metadata": {},
   "source": [
    "For this problem, we use the sliding window technique. We initialize two pointers, start and end, to the first element of the array. Now if the sum of the elements between start and end are less than the target, we expand the window by incrementing the end pointer by 1. If the sum is greater than the target, then we contract the window by incrementing the start pointer by 1. If there is a case where the start pointer crosses and goes ahead of the end pointer because the element they both are on is greater than the target, we just move the end pointer also on to the start pointer and proceed as before."
   ]
  },
  {
   "cell_type": "markdown",
   "id": "a4d9c9a7",
   "metadata": {},
   "source": [
    "### Attempt 2"
   ]
  },
  {
   "cell_type": "code",
   "execution_count": 4,
   "id": "4e7e552d",
   "metadata": {},
   "outputs": [
    {
     "data": {
      "text/plain": [
       "(2, 3)"
      ]
     },
     "execution_count": 4,
     "metadata": {},
     "output_type": "execute_result"
    }
   ],
   "source": [
    "def subarray_sum(a, target):\n",
    "    start = 0\n",
    "    end = 0\n",
    "    while start < len(a) and end < len(a):\n",
    "        if start > end:\n",
    "            end = start\n",
    "        if sum(a[start:end+1]) < target:\n",
    "            end += 1\n",
    "        elif sum(a[start:end+1]) > target:\n",
    "            start += 1\n",
    "        else:\n",
    "            return (start, end)\n",
    "    return ()\n",
    "\n",
    "subarray_sum([1, 2, 3, 5, 2], 8)"
   ]
  },
  {
   "cell_type": "markdown",
   "id": "6f7e4ae0",
   "metadata": {},
   "source": [
    "### Attempt 3"
   ]
  },
  {
   "cell_type": "code",
   "execution_count": 1,
   "id": "ae576d04",
   "metadata": {},
   "outputs": [
    {
     "data": {
      "text/plain": [
       "(2, 3)"
      ]
     },
     "execution_count": 1,
     "metadata": {},
     "output_type": "execute_result"
    }
   ],
   "source": [
    "def subarray_sum(a, target):\n",
    "    start = 0\n",
    "    end = 0\n",
    "    while start < len(a) and end < len(a):\n",
    "        if start > end:\n",
    "            end = start\n",
    "        if sum(a[start:end+1]) < target:\n",
    "            end += 1\n",
    "        elif sum(a[start:end+1]) > target:\n",
    "            start += 1\n",
    "        else:\n",
    "            return (start, end)\n",
    "    return None\n",
    "\n",
    "subarray_sum([1, 2, 3, 5, 2], 8)"
   ]
  },
  {
   "cell_type": "markdown",
   "id": "14f3da81",
   "metadata": {},
   "source": [
    "Given a String, find the longest substring with unique characters.\n",
    "\n",
    "For example: \"whatwhywhere\" --> \"atwhy\""
   ]
  },
  {
   "cell_type": "markdown",
   "id": "6b9dfef5",
   "metadata": {},
   "source": [
    "### Attempt 1"
   ]
  },
  {
   "cell_type": "code",
   "execution_count": 16,
   "id": "d80f69fa",
   "metadata": {},
   "outputs": [
    {
     "data": {
      "text/plain": [
       "(2, 6)"
      ]
     },
     "execution_count": 16,
     "metadata": {},
     "output_type": "execute_result"
    }
   ],
   "source": [
    "def longest_subs(s):\n",
    "    start = 0\n",
    "    end = 0\n",
    "    hm = {}\n",
    "    hm[s[0]] = 0\n",
    "    longest = 1\n",
    "    while end < len(s) - 1:\n",
    "        end += 1\n",
    "        toAdd = s[end]\n",
    "        if toAdd in hm.keys() and hm[toAdd] >= start:\n",
    "            start = hm[toAdd] + 1\n",
    "        hm[toAdd] = end\n",
    "        if end - start + 1 > longest:\n",
    "            longest = end - start + 1\n",
    "            result = (start, end)\n",
    "    return result\n",
    "\n",
    "longest_subs(\"whatwhywhere\")"
   ]
  },
  {
   "cell_type": "markdown",
   "id": "279fc801",
   "metadata": {},
   "source": [
    "### Attempt 2"
   ]
  },
  {
   "cell_type": "code",
   "execution_count": 2,
   "id": "87921cc4",
   "metadata": {},
   "outputs": [
    {
     "data": {
      "text/plain": [
       "(2, 6)"
      ]
     },
     "execution_count": 2,
     "metadata": {},
     "output_type": "execute_result"
    }
   ],
   "source": [
    "def longest_subs(s):\n",
    "    start = 0\n",
    "    end = 0\n",
    "    hm = {}\n",
    "    hm[s[0]] = 0\n",
    "    longest = 1\n",
    "    while end < len(s) - 1:\n",
    "        end += 1\n",
    "        toAdd = s[end]\n",
    "        if toAdd in hm.keys() and hm[toAdd] >= start:\n",
    "            start = hm[toAdd] + 1\n",
    "        hm[toAdd] = end\n",
    "        if end - start + 1 > longest:\n",
    "            longest = end - start + 1\n",
    "            result = (start, end)\n",
    "    return result\n",
    "\n",
    "longest_subs(\"whatwhywhere\")"
   ]
  },
  {
   "cell_type": "markdown",
   "id": "e4de9a95",
   "metadata": {},
   "source": [
    "## Prefix Sum"
   ]
  },
  {
   "cell_type": "markdown",
   "id": "67554886",
   "metadata": {},
   "source": [
    "Given an array of integers, find the contiguous subarray that sums to 0. The array can contain both negative and positive integers.\n",
    "\n",
    "For example: Input = [2,4,-2,1,-3,5,-3], Result = [4,-2,1,-3]"
   ]
  },
  {
   "cell_type": "markdown",
   "id": "794e85ea",
   "metadata": {},
   "source": [
    "### Attempt 1"
   ]
  },
  {
   "cell_type": "code",
   "execution_count": 2,
   "id": "c70c2623",
   "metadata": {},
   "outputs": [
    {
     "data": {
      "text/plain": [
       "(1, 4)"
      ]
     },
     "execution_count": 2,
     "metadata": {},
     "output_type": "execute_result"
    }
   ],
   "source": [
    "def sub_to_zero(a):\n",
    "    total = 0\n",
    "    hm = {}\n",
    "    for i in range(0, len(a)):\n",
    "        total += a[i]\n",
    "        if total == 0:\n",
    "            return (0, i)\n",
    "        if total in hm.keys():\n",
    "            return (hm[total]+1, i)\n",
    "        hm[total] = i\n",
    "    return None\n",
    "\n",
    "sub_to_zero([2, 4, -2, 1, -3, 5, -3])"
   ]
  },
  {
   "cell_type": "markdown",
   "id": "86afff0f",
   "metadata": {},
   "source": [
    "### Attempt 2"
   ]
  },
  {
   "cell_type": "code",
   "execution_count": 5,
   "id": "6106fd9e",
   "metadata": {},
   "outputs": [
    {
     "data": {
      "text/plain": [
       "(0, 4)"
      ]
     },
     "execution_count": 5,
     "metadata": {},
     "output_type": "execute_result"
    }
   ],
   "source": [
    "def sum_to_zero(a):\n",
    "    total = 0\n",
    "    hm = {}\n",
    "    for i in range(0, len(a)):\n",
    "        total += a[i]\n",
    "        if total == 0:\n",
    "            return (0, i)\n",
    "        if total in hm.keys():\n",
    "            return (hm[total]+1, i)\n",
    "        hm[total] = i\n",
    "    return None\n",
    "\n",
    "sum_to_zero([-1, 2, 1, -4, 2, 3, -1, 2])"
   ]
  },
  {
   "cell_type": "markdown",
   "id": "1dfc7182",
   "metadata": {},
   "source": [
    "### Attempt 3"
   ]
  },
  {
   "cell_type": "code",
   "execution_count": 3,
   "id": "290a165b",
   "metadata": {},
   "outputs": [
    {
     "data": {
      "text/plain": [
       "(0, 4)"
      ]
     },
     "execution_count": 3,
     "metadata": {},
     "output_type": "execute_result"
    }
   ],
   "source": [
    "def sum_to_zero(a):\n",
    "    total = 0\n",
    "    hm = {}\n",
    "    for i in range(0, len(a)):\n",
    "        total += a[i]\n",
    "        if total == 0:\n",
    "            return (0, i)\n",
    "        if total in hm.keys():\n",
    "            return (hm[total]+1, i)\n",
    "        hm[total] = i\n",
    "    return None\n",
    "\n",
    "sum_to_zero([-1, 2, 1, -4, 2, 3, -1, 2])"
   ]
  },
  {
   "cell_type": "markdown",
   "id": "b99947c4",
   "metadata": {},
   "source": [
    "For this problem, we use the prefix sum approach. The prefix sum at an index i is defined as the sum of elements of an array from 0 to that index i. $prefix sum[i] = \\sum_{0}^{i} a[i]$. The sum of elements of a contiguous subarray is said to be zero when the prefix sum till i is either 0 or if there is a duplicate in the prefix sum hashmap."
   ]
  },
  {
   "cell_type": "markdown",
   "id": "e6cac556",
   "metadata": {},
   "source": [
    "Given an array of positive and negative integers, find a subarray whose sum equals X.\n",
    "\n",
    "For example: Input = [2,4,-2,1,-3,5,-3], X = 5 --> Result = [2,4,-2,1]"
   ]
  },
  {
   "cell_type": "markdown",
   "id": "68022692",
   "metadata": {},
   "source": [
    "### Attempt 1"
   ]
  },
  {
   "cell_type": "code",
   "execution_count": 8,
   "id": "7970c80e",
   "metadata": {},
   "outputs": [
    {
     "data": {
      "text/plain": [
       "(0, 3)"
      ]
     },
     "execution_count": 8,
     "metadata": {},
     "output_type": "execute_result"
    }
   ],
   "source": [
    "def subarray_sum(a, target):\n",
    "    total = 0\n",
    "    hm = {}\n",
    "    for i in range(0, len(a)):\n",
    "        total += a[i]\n",
    "        if total == target:\n",
    "            return (0, i)\n",
    "        diff = total - target\n",
    "        if diff in hm.keys():\n",
    "            return (hm[diff]+1, i)\n",
    "        hm[total] = i\n",
    "    return None\n",
    "\n",
    "subarray_sum([2, 4, -2, 1, -3, 5, -3], 5)"
   ]
  },
  {
   "cell_type": "markdown",
   "id": "086546cf",
   "metadata": {},
   "source": [
    "### Attempt 2"
   ]
  },
  {
   "cell_type": "code",
   "execution_count": 12,
   "id": "7ad9ae96",
   "metadata": {},
   "outputs": [
    {
     "data": {
      "text/plain": [
       "(2, 3)"
      ]
     },
     "execution_count": 12,
     "metadata": {},
     "output_type": "execute_result"
    }
   ],
   "source": [
    "def subarray_sum(a, target):\n",
    "    total = 0\n",
    "    hm = {}\n",
    "    for i in range(0, len(a)):\n",
    "        total += a[i]\n",
    "        if total == target:\n",
    "            return (0, i)\n",
    "        diff = total - target\n",
    "        if diff in hm.keys():\n",
    "            return (hm[diff]+1, i)\n",
    "        hm[total] = i\n",
    "    return None\n",
    "\n",
    "subarray_sum([2, 4, -2, 1, -3, 5, -3], -1)"
   ]
  },
  {
   "cell_type": "markdown",
   "id": "14134921",
   "metadata": {},
   "source": [
    "### Attempt 3"
   ]
  },
  {
   "cell_type": "code",
   "execution_count": 4,
   "id": "06213247",
   "metadata": {},
   "outputs": [
    {
     "data": {
      "text/plain": [
       "(2, 3)"
      ]
     },
     "execution_count": 4,
     "metadata": {},
     "output_type": "execute_result"
    }
   ],
   "source": [
    "def subarray_sum(a, target):\n",
    "    total = 0\n",
    "    hm = {}\n",
    "    for i in range(0, len(a)):\n",
    "        total += a[i]\n",
    "        if total == target:\n",
    "            return (0, i)\n",
    "        diff = total - target\n",
    "        if diff in hm.keys():\n",
    "            return (hm[diff]+1, i)\n",
    "        hm[total] = i\n",
    "    return None\n",
    "\n",
    "subarray_sum([2, 4, -2, 1, -3, 5, -3], -1)"
   ]
  },
  {
   "cell_type": "markdown",
   "id": "ba7b1eb3",
   "metadata": {},
   "source": [
    "### Attempt 4"
   ]
  },
  {
   "cell_type": "code",
   "execution_count": 3,
   "id": "e0a082d1",
   "metadata": {},
   "outputs": [
    {
     "data": {
      "text/plain": [
       "(2, 3)"
      ]
     },
     "execution_count": 3,
     "metadata": {},
     "output_type": "execute_result"
    }
   ],
   "source": [
    "def subarray_sum(a, target):\n",
    "    total = 0\n",
    "    hm = {}\n",
    "    for i in range(0, len(a)):\n",
    "        total += a[i]\n",
    "        if total == target:\n",
    "            return (0, i)\n",
    "        diff = total - target\n",
    "        if diff in hm.keys():\n",
    "            return (hm[diff]+1, i)\n",
    "        hm[total] = i\n",
    "    return None\n",
    "\n",
    "subarray_sum([2, 3, -2, 1, -3, 5, -3], -1)"
   ]
  },
  {
   "cell_type": "code",
   "execution_count": null,
   "id": "3c5a199a",
   "metadata": {},
   "outputs": [],
   "source": []
  }
 ],
 "metadata": {
  "kernelspec": {
   "display_name": "Python 3 (ipykernel)",
   "language": "python",
   "name": "python3"
  },
  "language_info": {
   "codemirror_mode": {
    "name": "ipython",
    "version": 3
   },
   "file_extension": ".py",
   "mimetype": "text/x-python",
   "name": "python",
   "nbconvert_exporter": "python",
   "pygments_lexer": "ipython3",
   "version": "3.8.10"
  }
 },
 "nbformat": 4,
 "nbformat_minor": 5
}
